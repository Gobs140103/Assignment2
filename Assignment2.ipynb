{
  "nbformat": 4,
  "nbformat_minor": 0,
  "metadata": {
    "colab": {
      "provenance": [],
      "authorship_tag": "ABX9TyNQULbi4uSiOH/jk7kU3/E8"
    },
    "kernelspec": {
      "name": "python3",
      "display_name": "Python 3"
    },
    "language_info": {
      "name": "python"
    }
  },
  "cells": [
    {
      "cell_type": "markdown",
      "source": [
        "Assignment 2"
      ],
      "metadata": {
        "id": "4VpYBSo1c-5D"
      }
    },
    {
      "cell_type": "markdown",
      "source": [
        "Challenge Question 1"
      ],
      "metadata": {
        "id": "OeMtPsy9dNiE"
      }
    },
    {
      "cell_type": "code",
      "execution_count": 1,
      "metadata": {
        "colab": {
          "base_uri": "https://localhost:8080/"
        },
        "id": "90UVcD2dc53u",
        "outputId": "1ae24d99-0c84-4d4f-ecd8-03e624d29ce3"
      },
      "outputs": [
        {
          "output_type": "stream",
          "name": "stdout",
          "text": [
            "The original list : ['Ram', 1, 'Shyam', 2, 'Aman', 3]\n",
            "List after mixed sorting : [1, 2, 3, 'Aman', 'Ram', 'Shyam']\n"
          ]
        }
      ],
      "source": [
        "def mixs(a):\n",
        "    try:\n",
        "        b = int(a)\n",
        "        return (0, b)\n",
        "    except ValueError:\n",
        "        return (1, a)\n",
        "\n",
        "test_list = [\"Ram\", 1, \"Shyam\", 2, \"Aman\", 3]\n",
        "print(\"The original list : \" + str(test_list))\n",
        "test_list.sort(key = mixs)\n",
        "print(\"List after mixed sorting : \" + str(test_list))"
      ]
    }
  ]
}